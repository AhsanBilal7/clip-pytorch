{
 "cells": [
  {
   "cell_type": "code",
   "execution_count": 9,
   "metadata": {},
   "outputs": [
    {
     "name": "stdout",
     "output_type": "stream",
     "text": [
      "Input IDs: torch.Size([1, 11])\n",
      "Attention Mask: torch.Size([1, 11])\n",
      "Output Shape: torch.Size([1, 11, 768])\n"
     ]
    }
   ],
   "source": [
    "from transformers import DistilBertModel, DistilBertConfig, DistilBertTokenizer\n",
    "from Clip.configs import CFG\n",
    "from torch import nn\n",
    "import torch\n",
    "from dotenv import load_dotenv\n",
    "load_dotenv()\n",
    "config_info = CFG().get_config()\n",
    "\n",
    "\n",
    "class TextEncoder(nn.Module):\n",
    "    def __init__(self, model_name=config_info.text_encoder_model, pretrained=config_info.pretrained, trainable=config_info.trainable):\n",
    "        super().__init__()\n",
    "        if pretrained:\n",
    "            self.model = DistilBertModel.from_pretrained(model_name)\n",
    "        else:\n",
    "            self.model = DistilBertModel(config=DistilBertConfig())\n",
    "\n",
    "        for p in self.model.parameters():\n",
    "            p.requires_grad = trainable\n",
    "\n",
    "        # we are using the CLS token hidden representation as the sentence's embedding\n",
    "        self.target_token_idx = 0\n",
    "\n",
    "    def forward(self, input_ids, attention_mask):\n",
    "        output = self.model(input_ids=input_ids, attention_mask=attention_mask)\n",
    "        last_hidden_state = output.last_hidden_state\n",
    "        return last_hidden_state\n",
    "        # return last_hidden_state[:, self.target_token_idx, :]\n",
    "    \n",
    "# Assuming config_info is defined somewhere with appropriate values\n",
    "\n",
    "\n",
    "# Create an instance of the TextEncoder\n",
    "text_encoder = TextEncoder()\n",
    "\n",
    "# Tokenize an example text\n",
    "tokenizer = DistilBertTokenizer.from_pretrained(config_info.text_encoder_model)\n",
    "text = \"This is a sample text to encode.\"\n",
    "input_ids = tokenizer.encode(text, return_tensors=\"pt\")\n",
    "\n",
    "# Generate attention mask\n",
    "attention_mask = torch.ones(input_ids.shape)\n",
    "\n",
    "# Obtain the output from the TextEncoder\n",
    "output = text_encoder(input_ids=input_ids, attention_mask=attention_mask)\n",
    "\n",
    "print(\"Input IDs:\", input_ids.shape)\n",
    "print(\"Attention Mask:\", attention_mask.shape)\n",
    "print(\"Output Shape:\", output.shape)\n"
   ]
  },
  {
   "cell_type": "code",
   "execution_count": 10,
   "metadata": {},
   "outputs": [
    {
     "ename": "ModuleNotFoundError",
     "evalue": "No module named 'timm'",
     "output_type": "error",
     "traceback": [
      "\u001b[1;31m---------------------------------------------------------------------------\u001b[0m",
      "\u001b[1;31mModuleNotFoundError\u001b[0m                       Traceback (most recent call last)",
      "Cell \u001b[1;32mIn[10], line 1\u001b[0m\n\u001b[1;32m----> 1\u001b[0m \u001b[38;5;28;01mimport\u001b[39;00m \u001b[38;5;21;01mtimm\u001b[39;00m\n",
      "\u001b[1;31mModuleNotFoundError\u001b[0m: No module named 'timm'"
     ]
    }
   ],
   "source": [
    "import timm\n"
   ]
  },
  {
   "cell_type": "code",
   "execution_count": null,
   "metadata": {},
   "outputs": [],
   "source": []
  }
 ],
 "metadata": {
  "kernelspec": {
   "display_name": "gait",
   "language": "python",
   "name": "python3"
  },
  "language_info": {
   "codemirror_mode": {
    "name": "ipython",
    "version": 3
   },
   "file_extension": ".py",
   "mimetype": "text/x-python",
   "name": "python",
   "nbconvert_exporter": "python",
   "pygments_lexer": "ipython3",
   "version": "3.8.17"
  }
 },
 "nbformat": 4,
 "nbformat_minor": 2
}
